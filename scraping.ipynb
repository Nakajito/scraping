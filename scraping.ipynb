{
 "cells": [
  {
   "attachments": {},
   "cell_type": "markdown",
   "metadata": {},
   "source": [
    "Código para extraer una nota de un sitio de noticias útilizando <requests> y <beatifulsoup>"
   ]
  },
  {
   "cell_type": "code",
   "execution_count": 45,
   "metadata": {},
   "outputs": [
    {
     "name": "stdout",
     "output_type": "stream",
     "text": [
      "Conexión establecida con: https://www.pagina12.com.ar/\n",
      "\n",
      "Obteniendo la nota de la seccion El país en el link https://www.pagina12.com.ar/secciones/el-pais\n",
      "\n",
      "Titulo de la nota: El esposo de Milagro Sala se descompensó en medio del allanamiento \n",
      "\n",
      "Link de la nota: https://www.pagina12.com.ar/563398-el-esposo-de-milagro-sala-se-descompenso-en-medio-del-allana\n",
      "El periodista Raúl Noro, marido de Milagro Sala, se descompensó este jueves en su casa del barrio de Cuyaya, San Salvador de Jujuy, mientras la Policía jujeña que responde al gobierno de Gerardo Morales realizaba un allanamiento en la vivienda, donde la dirigente de la Tupac Amaru cumple prisión domiciliaria. Según denunciaron fuentes del entorno de Sala, los médicos pudieron ingresar al domicilio para atender a Noro pero los uniformados, en un nuevo acto de hostigamiento hacia la referenta social, les impidieron retirarse.\"El esposo de Milagro, que se encuentra en estado grave de salud, se descompuso en el allanamiento. Milagro llamó a una ambulancia. Los médicos pudieron ingresar al domicilio pero el Poder Judicial y la Policía ahora les impiden salir del mismo\", informaron fuentes cercanas a Sala.Finalmente, según confirmó a la AM750 Coco Garfagnini, dirigente de la Tupac Amaru, el periodista fue trasladado a una clínica. \"Quería pasar los últimos días con Milagro y lo interrumpió el allanamiento. Ni una muerte digna le permiten estos hijos de puta\", denunció Garfagnini.\n",
      "\n",
      "https://mdstrm.com/embed/649dccb0743f7f07d2d2abf3\n",
      "\n",
      "Noro había estado internado en una clínica hasta hace dos días atrás, cuando fue enviado a su domicilio porque se encuentra en estado terminal. Al momento en que la Policía de Jujuy ingresó a la vivienda a realizar el operativo, el periodista se encontraba acostado en la cama.AllanamientoLa orden de allanamiento de este jueves la dictó el juez federal Rodolfo Fernández, con intervención del fiscal Diego Funes “en el marco de la causa que se investiga la comisión de delitos por las manifestaciones en Jujuy de los últimos días”, según informaron a Página/12 los abogados de la dirigenta.En el procedimiento se secuestró dinero, computadoras personales y teléfonos móviles, entre otros objetos. \"Le dieron vuelta toda la casa”, denunció a este diario Garfagnini, quien precisó que el violento procedimiento tuvo lugar en todos los cuartos de la vivienda. Según precisó Elizabeth Gómez Alcorta, parte del equipo de abogados de Sala, en la medida del juez se indicó que la orden de allanamiento fue dictada tras el testimonio de un supuesto imputado de identidad reservada, detenido en los últimos días durante o después de las protestas.Esa persona habría mencionado a Sala como parte de alguna “vinculación con las protestas que muy dignamente lleva adelante el pueblo de Jujuy”. Gómez Alcorta puntualizó que este hecho “es uno más en el marco del terrible hostigamiento y persecución contra Milagro, a siete años y medio de su detención”.También remarcó que el operativo de este jueves es parte de “la campaña electoral que llevan adelante Gerardo Morales y Horacio Rodríguez Larreta” para llegar a la Presidencia de la Nación.\n"
     ]
    }
   ],
   "source": [
    "# Importamos la libreria <requests> y >beatifulsoup>\n",
    "import requests\n",
    "from bs4 import BeautifulSoup\n",
    "from IPython.display import Image\n",
    "\n",
    "try:\n",
    "    # Capturamos la url del sitio\n",
    "    url = 'https://www.pagina12.com.ar'\n",
    "\n",
    "    # Utilizamos <requests.get()>\n",
    "    p12 = requests.get(url)\n",
    "    \n",
    "    # Comprobamos el estado de la conexión\n",
    "    if p12.status_code == 200:\n",
    "        print(f\"Conexión establecida con: {p12.request.url}\\n\")\n",
    "        #print(f\"Contenido del sitio en texto plano: \\n{p12.text}\\n\")\n",
    "        \n",
    "        # Convertimos (parser) el contenido del sitio a html\n",
    "        s_p12 = BeautifulSoup(p12.text, 'html.parser')\n",
    "        \n",
    "        # Aplicamos formato \n",
    "        #print(f\"Documento HTML\\n{s_p12.prettify()}\\n\")\n",
    "        \n",
    "        # Obtenemos los titulos y links de las secciones\n",
    "        secciones = s_p12.find('ul', attrs={'class' : 'horizontal-list main-sections hide-on-dropdown'}).find_all('li')\n",
    "        titulos_secciones = [seccion.a.get_text() for seccion in secciones]\n",
    "        link_secciones = [seccion.a.get('href') for seccion in secciones]\n",
    "        \n",
    "        print(f\"Obteniendo la nota de la seccion {titulos_secciones[0]} en el link {link_secciones[0]}\\n\")\n",
    "                \n",
    "        # Obtenemos la nota de la primera sección\n",
    "        secc = requests.get(link_secciones[0])\n",
    "        \n",
    "        # Parseamos el texto plano a html\n",
    "        s_secc = BeautifulSoup(secc.text, 'html.parser')\n",
    "        \n",
    "        # Aplicamos formato\n",
    "        s_secc.prettify()\n",
    "        \n",
    "        # Obtenemos el título de la nota\n",
    "        titulo_secc = s_secc.find('h2', attrs={'class' : 'title ff-31px-w800-ls-1'})\n",
    "        print(f\"Titulo de la nota: {titulo_secc.text}\\n\")\n",
    "        \n",
    "        # Obtenemos el link de la nota\n",
    "        link_secc = s_secc.find('h2', attrs={'class' : 'title ff-31px-w800-ls-1'}).a.get('href')\n",
    "        link_secc = url+link_secc\n",
    "        print(f\"Link de la nota: {link_secc}\")\n",
    "        \n",
    "        nota = requests.get(link_secc)\n",
    "        s_nota = BeautifulSoup(nota.text, 'html.parser')        \n",
    "        contenido_nota = s_nota.find('div', attrs={'class' : 'article-main-content article-text'})\n",
    "        print(contenido_nota.text)\n",
    "        \n",
    "        # extraer imagenes\n",
    "        media = s_nota.find('figure', attrs={'class' : 'object-fit-block--contain intrinsic-container intrinsic-container-3x2'}).img.get('src')\n",
    "        img_req = requests.get(media)\n",
    "        Image(img_req.content)\n",
    "        \n",
    "        \n",
    "        \n",
    "        \n",
    "except Exception as e:\n",
    "    print(f\"Error en el request: \\n{e} \\n\")"
   ]
  }
 ],
 "metadata": {
  "kernelspec": {
   "display_name": "Python 3 (ipykernel)",
   "language": "python",
   "name": "python3"
  },
  "language_info": {
   "codemirror_mode": {
    "name": "ipython",
    "version": 3
   },
   "file_extension": ".py",
   "mimetype": "text/x-python",
   "name": "python",
   "nbconvert_exporter": "python",
   "pygments_lexer": "ipython3",
   "version": "3.10.8"
  }
 },
 "nbformat": 4,
 "nbformat_minor": 2
}
